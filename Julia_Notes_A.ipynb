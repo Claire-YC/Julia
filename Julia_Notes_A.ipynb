{
 "cells": [
  {
   "cell_type": "markdown",
   "metadata": {},
   "source": [
    "# 基本命令"
   ]
  },
  {
   "cell_type": "markdown",
   "metadata": {},
   "source": [
    "**上手Jupyter notebook**\n",
    "\n",
    "1. 要执行一个cell中的代码, 选中那个cell然后要么(1) 按 `Shift` + `Enter` ;\n",
    "2. \"?println\" -- 查看println的帮助文件\n",
    "3. \";ls\" -- 使用shell命令加分号"
   ]
  },
  {
   "cell_type": "code",
   "execution_count": null,
   "metadata": {},
   "outputs": [],
   "source": [
    "    # 1. 打印字符串\n",
    "println(\"I'm excited to learn Julia!\")"
   ]
  },
  {
   "cell_type": "code",
   "execution_count": null,
   "metadata": {},
   "outputs": [],
   "source": [
    "    # 2. 变量赋值，不需要定义\n",
    "var = 42\n",
    "typeof(var)"
   ]
  },
  {
   "cell_type": "code",
   "execution_count": null,
   "metadata": {},
   "outputs": [],
   "source": [
    "    # 3. Julia允许用超广泛的字符，就比如😺 [\"\\:smi+<tab>-->上下键选定--><tab>--><enter>\"]\n",
    "😸 = 1 \n",
    "😄 = 0 \n",
    "😠 = -1\n",
    "😸 + 😠 = 😄\n",
    "typeof(😺) # Int64"
   ]
  },
  {
   "cell_type": "code",
   "execution_count": null,
   "metadata": {},
   "outputs": [],
   "source": [
    "    # 4. 注释\n",
    "# 单行注释用井号键（pound/hash key）\n",
    "#=\n",
    "\n",
    "多行注释，\n",
    "用“#= =#”组合\n",
    "\n",
    "=#"
   ]
  },
  {
   "cell_type": "code",
   "execution_count": null,
   "metadata": {},
   "outputs": [],
   "source": [
    "    # 5. Basic math\n",
    "quotient = 100 / 3 \n",
    "power = 10 ^ 2\n",
    "modulus = 101 % 2 "
   ]
  },
  {
   "cell_type": "markdown",
   "metadata": {},
   "source": [
    "# 字符和字符串"
   ]
  },
  {
   "cell_type": "code",
   "execution_count": null,
   "metadata": {},
   "outputs": [],
   "source": [
    "    # 1. Define a string\n",
    "s1 = \"I am a string. \"\n",
    "s2 = \"\"\"I am a \"string\" \"\"\" #三个双引号所构造的字符串中可以使用双引号作为字符串的一部分"
   ]
  },
  {
   "cell_type": "code",
   "execution_count": null,
   "metadata": {},
   "outputs": [],
   "source": [
    "    # 2. 字符串格式化输出\n",
    "name = \"Jane\"\n",
    "num_fingers = 10\n",
    "num_toes = 10\n",
    "\n",
    "println(\"Hello, my name is $name.\") \n",
    "println(\"I have $num_fingers fingers and $num_toes toes.\")\n",
    "println(\"That is $(num_fingers + num_toes) digits in all!!\")\n",
    "#=\n",
    "Hello, my name is Jane.\n",
    "I have 10 fingers and 10 toes.\n",
    "That is 20 digits in all!!\n",
    "=#"
   ]
  },
  {
   "cell_type": "code",
   "execution_count": null,
   "metadata": {},
   "outputs": [],
   "source": [
    "    # 3. 字符串拼接-1\n",
    "s3 = \"How many cats \";\n",
    "s4 = \"is too many cats?\";\n",
    "😸 = 10\n",
    "string(s3, s4)\n",
    "string(\"I don't know, but \", 😸, \" is too few.\")\n",
    "#=\n",
    "How many cats is too many cats?\n",
    "I don't know, but 10 is too few.\n",
    "=#\n",
    "    # 字符串拼接-2\n",
    "s5 = s3 * s4"
   ]
  },
  {
   "cell_type": "markdown",
   "metadata": {},
   "source": [
    "# 数据结构"
   ]
  },
  {
   "cell_type": "markdown",
   "metadata": {},
   "source": [
    "## 元组Tuples"
   ]
  },
  {
   "cell_type": "code",
   "execution_count": null,
   "metadata": {},
   "outputs": [],
   "source": [
    "    # 1. 元组Tuples (item1, item2, ...) -- 元素不可更改\n",
    "#=1=#\n",
    "myfavorite_animals = (\"penguins\", \"cats\", \"sugargliders\")\n",
    "myfavorite_animals[1]  # penguins\n",
    "\n",
    "#=2 NamedTuples 通过名字索引元组元素 (name1 = item1, name2 = item2, ...)=# \n",
    "myfavoriteAnimals = (bird = \"penguins\", mammal = \"cats\", marsupial = \"sugargliders\")\n",
    "myfavoriteAnimals.bird # penguins"
   ]
  },
  {
   "cell_type": "markdown",
   "metadata": {},
   "source": [
    "## Dictionary字典"
   ]
  },
  {
   "cell_type": "code",
   "execution_count": null,
   "metadata": {},
   "outputs": [],
   "source": [
    "    # 2. Dictionary字典-键值对 Dict(key1 => value1, key2 => value2, ...)\n",
    "#=1 Define =#\n",
    "myphone_book = Dict(\"Jenny\" => \"867-5309\", \"Ghostbusters\" => \"555-2368\")\n",
    "myphone_book[\"Jenny\"]  # 867-5309\n",
    "\n",
    "#=2 Add a new element=#\n",
    "myphone_book[\"Claire\"] = \"188-5601\"\n",
    "\n",
    "#=3 Delete an element and getting relevant value=#\n",
    "pop!(myphone_book, \"Claire\")\n",
    "\n",
    "#=4 多类型的字典=#\n",
    "flexible_phonebook = Dict(\"Jenny\" => 8675309, \"Ghostbusters\" => \"555-2368\")\n",
    "flexible_phonebook[\"Claire\"] = 11.11\n",
    "#=\n",
    "1）Attention 字典是无序的，不可以通过索引获取值\n",
    "2）如果字典在定义的时候是多类型的，则后期在添加元素的时候可以任意类型，否则仅为单一类型\n",
    "=#"
   ]
  },
  {
   "cell_type": "markdown",
   "metadata": {},
   "source": [
    "## Array数组"
   ]
  },
  {
   "cell_type": "code",
   "execution_count": null,
   "metadata": {},
   "outputs": [],
   "source": [
    "    # 3. Array数组，有序且大小可变 a = [item1, item2, ...] [以列的方式呈现]\n",
    "#=1. Define =#\n",
    "  ## [5-element Array{String,1}] - 这是一个元素类型为 “String” 的 “1” 维的数组\n",
    "myfriends = [\"Ted\", \"Robyn\", \"Barney\", \"Lily\", \"Marshall\"] \n",
    "\n",
    "  ## [7-element Array{Int64,1}]\n",
    "fibonacci = [1, 1, 2, 3, 5, 8, 13]\n",
    "\n",
    "  ## [6-element Array{Any,1}]\n",
    "mixture = [1, 1, 2, 3, \"Ted\", \"Robyn\"]\n",
    "\n",
    "#=2. Index =#\n",
    "myfriends[1]  # Ted -- the index starts at 1\n",
    "myfriends[3] = \"Claire\" # Change the element\n",
    "\n",
    "#=3. Add and Delete push!在数组最后添加元素，而pop!删除数组的最后一个元素。=#\n",
    "push!(myfriends, \"Sunny\")\n",
    "pop!(myfriends)\n",
    "\n",
    "#=4. Multiple dimentions =#\n",
    "  ## [2-element Array{Array{String,1},1}] -- 二维数组\n",
    "favorites = [[\"Koobideh\", \"chocolate\", \"eggs\"], [\"cats\", \"sugarliders\"]]\n",
    "  ## [4×3 Array{Float64,2}]\n",
    "r1 = rand(4, 3)\n",
    " ## [4×3×2 Array{Float64,3}]\n",
    "r2 = rand(4, 3, 2)\n",
    "\n",
    "#=5. Copy an array =#\n",
    "somenumbers = copy(fibonacci) ## some = fib--some是fib的别名，some的改变会导致fib的改变"
   ]
  },
  {
   "cell_type": "markdown",
   "metadata": {},
   "source": [
    "# 循环"
   ]
  },
  {
   "cell_type": "code",
   "execution_count": null,
   "metadata": {},
   "outputs": [],
   "source": [
    "    # 1. While\n",
    "## Exp1\n",
    "n = 0\n",
    "while n < 5\n",
    "    n += 1\n",
    "    println(n)\n",
    "end\n",
    "\n",
    "## Exp1\n",
    "myfriends = [\"Ted\", \"Claire\", \"Sunny\"]\n",
    "i = 1\n",
    "while i <= length(myfriends)\n",
    "    friend = myfriends[i]\n",
    "    println(\"Hi, $friend, it's great to see you!\") # 格式化输出\n",
    "    i += 1\n",
    "end"
   ]
  },
  {
   "cell_type": "code",
   "execution_count": null,
   "metadata": {},
   "outputs": [],
   "source": [
    " # 2. For\n",
    "## Exp1\n",
    "for n in 1:5\n",
    "    println(n)\n",
    "end\n",
    "\n",
    "## Exp2\n",
    "for friend in myfriends\n",
    "    println(\"Hi, $i\")\n",
    "end\n",
    "\n",
    "## Exp3\n",
    "m, n = 2, 3\n",
    "A = fill(0, (m, n))\n",
    "for i in 1:m\n",
    "    for j in 1:n\n",
    "        A[i, j] = i + j\n",
    "    end\n",
    "end\n",
    "\n",
    "### 简化写法\n",
    "for i in 1:m, j in 1:n\n",
    "    A[i ,j] = i + j\n",
    "end\n",
    "\n",
    "A = [i + j for i in 1:m, j in 1:n] #最具有Julia的风格"
   ]
  },
  {
   "cell_type": "markdown",
   "metadata": {},
   "source": [
    "# 条件判断"
   ]
  },
  {
   "cell_type": "code",
   "execution_count": null,
   "metadata": {},
   "outputs": [],
   "source": [
    "    # 1. \n",
    "grade = 60\n",
    "if (div(grade, 10) == 10) || (div(grade, 10) == 9) # 分数100～90 -> A [div(A,B) = A 整除 B]\n",
    "    println(\"Your get an A.\")\n",
    "elseif (div(grade, 10) > 7) \n",
    "    println(\"Your get a B.\")\n",
    "else\n",
    "    println(\"You are failed.\")\n",
    "end\n",
    "\n",
    "    # 2. 三元运算符\n",
    "n = 7\n",
    "(n % 2 == 0) ? n : \"odd\"\n",
    "#= 等价于\n",
    "if (n % 2 == 0)\n",
    "    println(x)\n",
    "else\n",
    "    println(\"odd\")\n",
    "end \n",
    "=#"
   ]
  },
  {
   "cell_type": "markdown",
   "metadata": {},
   "source": [
    "# 函数"
   ]
  },
  {
   "cell_type": "markdown",
   "metadata": {},
   "source": [
    "## 函数声明"
   ]
  },
  {
   "cell_type": "code",
   "execution_count": null,
   "metadata": {},
   "outputs": [],
   "source": [
    "    # 1. funciont...end\n",
    "function sayhifunc(name)\n",
    "    println(\"Hi, $name, it's great to see you!\")\n",
    "end\n",
    "    \n",
    "function squareby2(x)\n",
    "    x^2\n",
    "end\n",
    "\n",
    "    # 2. for sample funtion\n",
    "sayhifunc2(name) = println(\"Hi $name, nice to meet you.\")\n",
    "squareby2_2(x) = x^2\n",
    "\n",
    "    # 3. \"匿名\" ？？\n",
    "sayhifunc3 = name -> println(\"Hi $name.\")\n",
    "squareby2_3 = x -> x^2  # \"squareby2_3\" 有时候可以不要\n",
    "\n",
    "### Attention\n",
    "#=\n",
    "不管往函数里送什么样的参数，只要是能算，函数都能给出结果！！\n",
    "1. sayhifunc3(555) --- \"Hi, 555.\"\n",
    "2. squareby2(A) --- [A is a matrix] A*A[矩阵乘法！！]\n",
    "3. squareby2(\"hi\") --- \"hihi\"\n",
    "=#"
   ]
  },
  {
   "cell_type": "markdown",
   "metadata": {},
   "source": [
    "## 函数的method"
   ]
  },
  {
   "cell_type": "code",
   "execution_count": 9,
   "metadata": {},
   "outputs": [
    {
     "name": "stdout",
     "output_type": "stream",
     "text": [
      "My input x and y are both strings!\n",
      "My input x and y are both integer!\n"
     ]
    },
    {
     "data": {
      "text/html": [
       "f(x::<b>Int64</b>, y::<b>Int64</b>) in Main at In[9]:5"
      ],
      "text/plain": [
       "f(x::Int64, y::Int64) in Main at In[9]:5"
      ]
     },
     "execution_count": 9,
     "metadata": {},
     "output_type": "execute_result"
    }
   ],
   "source": [
    "    # 1. 不限定函数输入变量类型\n",
    "foo(x, y) = println(\"My input x and y can be any type\")\n",
    "    # 2. 限定变量类型 - f函数有两种method\n",
    "f(x::String, y::String) = println(\"My input x and y are both strings!\")\n",
    "f(x::Int, y::Int) = println(\"My input x and y are both integer!\")\n",
    "\n",
    "f(\"hi\", \"me\")   # \"My input x and y are both strings!\"\n",
    "f(3, 4)         # \"My input x and y are both integer!\"\n",
    "\n",
    "    # 3. method\n",
    "methods(f)     # 查看\"f()\"有多少种method\n",
    "@which f(3, 4) # 查看\"f(3, 4)\"使用了哪种method"
   ]
  },
  {
   "cell_type": "markdown",
   "metadata": {},
   "source": [
    "## 细节"
   ]
  },
  {
   "cell_type": "code",
   "execution_count": null,
   "metadata": {},
   "outputs": [],
   "source": [
    "    # 1.变量通过函数后，其本身会不会变化？？\n",
    "v = [3, 5 ,2]\n",
    "\n",
    "## 1. 其本身不改=变\n",
    "sort(v)   # we get [2 3 5]\n",
    "v         # \"v\" 仍旧是[3, 5, 2]\n",
    "\n",
    "## 2. 本身变\n",
    "sort!(v)  ## we get [2 3 5]"
   ]
  },
  {
   "cell_type": "markdown",
   "metadata": {},
   "source": [
    "## 高阶函数"
   ]
  },
  {
   "cell_type": "code",
   "execution_count": null,
   "metadata": {},
   "outputs": [],
   "source": [
    "    # 1. map\n",
    "f(x) = x^2\n",
    "map(f, [1, 2, 3]) # [1, 2, 3]都会送入“f”中 --- [f(1) f(2) f(3)]\n",
    "\n",
    "map(x -> x^3, [1, 2, 3])\n",
    "\n",
    "    # 2. broadcast\n",
    "broadcast(f, [1, 2, 3])\n",
    "f.([1, 2, 3])  ## 两个语句是等价的\n",
    "\n",
    "### Attention：一般情况下都矩阵运算，加\".\"后（broadcast）变成对应元素的单个计算\n",
    "A = [i + 3*j for i in 1:3, j in 0:2]\n",
    "f(x) = x^2\n",
    "f(A)  ## 矩阵乘法\n",
    "f.(A) ## 对应元素的平方\n",
    "\n",
    "### 复杂一点\n",
    "A .+ 2 .* f.(A) ./ A\n",
    "broadcast(x -> x + 2 * f(x) / x, A)"
   ]
  },
  {
   "cell_type": "markdown",
   "metadata": {},
   "source": [
    "# 包（Packages）\n",
    "查看全部包：\n",
    "https://juliaobserver.com/"
   ]
  },
  {
   "cell_type": "code",
   "execution_count": null,
   "metadata": {},
   "outputs": [],
   "source": [
    "    # Exp1 \"Example\" package-[hello(who::String) = \"Hello, $who\"]\n",
    "\n",
    "# Add/download a package\n",
    "using Pkg\n",
    "Pkg.add(\"Example\")\n",
    "\n",
    "# Using a package\n",
    "using Example\n",
    "\n",
    "hello(\"Claire. Nice two meet you\")"
   ]
  },
  {
   "cell_type": "code",
   "execution_count": null,
   "metadata": {},
   "outputs": [],
   "source": [
    "    # Exp2 \"Colors\" package\n",
    "Pkg.add(\"Colors\")\n",
    "using Colors\n",
    "\n",
    "# create 10色 调色板\n",
    "palette = distinguishable_colors(10)\n",
    "# 随机产生(3,3)的颜色矩阵\n",
    "rand(palette, 3, 3)"
   ]
  },
  {
   "cell_type": "code",
   "execution_count": null,
   "metadata": {},
   "outputs": [],
   "source": [
    "    ## Exp 3 \"Primes质数\" package 源码在https://github.com/JuliaMath/Primes.jl\n",
    "Pkg.add(\"Primes\")\n",
    "using Primes\n",
    "\n",
    "primes_list = primes(100) # 获得100以内的质数"
   ]
  },
  {
   "cell_type": "markdown",
   "metadata": {},
   "source": [
    "# 绘图"
   ]
  },
  {
   "cell_type": "code",
   "execution_count": null,
   "metadata": {},
   "outputs": [],
   "source": [
    "    # 1. 方式一：\"Plots.jl\"- 优势之一是可以无缝地切换后端（backends）\n",
    "# 安装包\n",
    "using Pkg\n",
    "Pkg.add(\"Plots\")\n",
    "using Plots\n",
    "\n",
    "# 使用后端gr() -- 指的是实际执行绘制的库\n",
    "gr()\n",
    "\n",
    "# 案例：调查一下大概1860到2000年的全球温度和海盗数量的关系\n",
    "global_temperatures = [14.4, 14.5, 14.8, 15.2, 15.5, 15.8]\n",
    "num_pirates = [45000, 20000, 15000, 5000, 400, 17]\n",
    "\n",
    "# 使用plot和scatter函数\n",
    "plot(num_pirates, global_temperatures, label=\"line\")  \n",
    "scatter!(num_pirates, global_temperatures, label=\"points\")  # “!” 这里与Matlab中的“hold on”作用一样\n",
    "# 添加图例\n",
    "xlabel!(\"Number of Pirates [Approximate]\")\n",
    "ylabel!(\"Global Temperature (C)\")\n",
    "title!(\"Influence of pirate population on global warming\")\n",
    "xflip!() # x轴翻转"
   ]
  },
  {
   "cell_type": "code",
   "execution_count": null,
   "metadata": {},
   "outputs": [],
   "source": [
    "    # 2. 方式二： “UnicodePlots” \n",
    "Pkg.add(\"UnicodePlots\")\n",
    "unicodeplots()\n",
    "\n",
    "plot(num_pirates, global_temperatures, label=\"line\")  \n",
    "scatter!(num_pirates, global_temperatures, label=\"points\") \n",
    "xlabel!(\"Number of Pirates [Approximate]\")\n",
    "ylabel!(\"Global Temperature (C)\")\n",
    "title!(\"Influence of pirate population on global warming\")\n",
    "\n",
    "## 不同的绘图方式下，图片效果不同"
   ]
  },
  {
   "cell_type": "code",
   "execution_count": null,
   "metadata": {},
   "outputs": [],
   "source": [
    "    # Exp 绘制子图\n",
    "# 切换使用的绘图库\n",
    "using Plots \n",
    "gr()\n",
    "\n",
    "x = -10:10\n",
    "p1 = plot(x, x)\n",
    "p2 = plot(x, x.^2)\n",
    "p3 = plot(x, x.^3)\n",
    "p4 = plot(x, x.^4)\n",
    "plot(p1, p2, p3, p4, layout = (2,2), legend = true)"
   ]
  },
  {
   "cell_type": "markdown",
   "metadata": {},
   "source": [
    "# 简单的代数运算"
   ]
  },
  {
   "cell_type": "code",
   "execution_count": null,
   "metadata": {},
   "outputs": [],
   "source": [
    "    # 1. 创建特殊矩阵\n",
    "A = rand(1:4,3,3)  # 一个（3*3）的矩阵，值的范围[1:4] - [Matrix{Type} = Array{Type,2}]\n",
    "x = fill(1.0, 3) # 全1向量 - [Array{Float64,1} = Vector{Type}]\n",
    "\n",
    "    # 2. 矩阵的转置\n",
    "# A的共轭转置或者伴随矩阵\n",
    "A = [[1+im, 2-im] [3*im, 4+im]]\n",
    "B = A'\n",
    "# A的单纯转置\n",
    "transpose(A)\n",
    "\n",
    "    # 3. 解线性方程组 - 用方阵A表示的线性方程组 𝐴𝑥=𝑏 用左除运算符\"\\\"求解\n",
    "A = [[1, 1] [-1, 1]]\n",
    "b = vec([0 2])\n",
    "x = A\\b\n",
    "\n",
    "## using LinearAlgebra 线性代数包"
   ]
  },
  {
   "cell_type": "markdown",
   "metadata": {},
   "source": [
    "# 其他"
   ]
  },
  {
   "cell_type": "markdown",
   "metadata": {},
   "source": [
    "## 短路运算"
   ]
  },
  {
   "cell_type": "code",
   "execution_count": null,
   "metadata": {},
   "outputs": [],
   "source": [
    "    # 1. “&&”\n",
    "\n",
    "(x > 0) && error(\"x cannot be greater than 0\") \n",
    "## 若前半部分为真，则语句返回后半部分的值 -- “x cannot be greater than 0”\n",
    "\n",
    "false && (println(\"hi\"); true)\n",
    "## 若前半部分为真假，则不会执行后半部分语句 -- “false”\n",
    "\n",
    "    # 2. “||”\n",
    "true || println(\"hi\")  # \"true\"\n",
    "false || println(\"hi\") # \"hi\""
   ]
  }
 ],
 "metadata": {
  "kernelspec": {
   "display_name": "Julia 1.5.1",
   "language": "julia",
   "name": "julia-1.5"
  },
  "language_info": {
   "file_extension": ".jl",
   "mimetype": "application/julia",
   "name": "julia",
   "version": "1.5.1"
  },
  "toc": {
   "base_numbering": 1,
   "nav_menu": {},
   "number_sections": true,
   "sideBar": true,
   "skip_h1_title": false,
   "title_cell": "Table of Contents",
   "title_sidebar": "Contents",
   "toc_cell": false,
   "toc_position": {},
   "toc_section_display": true,
   "toc_window_display": true
  }
 },
 "nbformat": 4,
 "nbformat_minor": 2
}
